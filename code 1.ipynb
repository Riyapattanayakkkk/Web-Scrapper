{
 "cells": [
  {
   "cell_type": "code",
   "execution_count": 4,
   "metadata": {},
   "outputs": [],
   "source": [
    "from selenium import webdriver\n",
    "from bs4 import BeautifulSoup\n",
    "import pandas as pd"
   ]
  },
  {
   "cell_type": "code",
   "execution_count": null,
   "metadata": {},
   "outputs": [],
   "source": [
    "page_source = browser.page_source\n",
    "\n",
    "# Parse the HTML using BeautifulSoup\n",
    "soup = BeautifulSoup(page_source, 'html.parser')\n",
    "\n",
    "# Find all card elements\n",
    "cards = soup.find_all('div', class_='card')"
   ]
  },
  {
   "cell_type": "code",
   "execution_count": null,
   "metadata": {},
   "outputs": [],
   "source": [
    "cards"
   ]
  },
  {
   "cell_type": "code",
   "execution_count": 5,
   "metadata": {},
   "outputs": [],
   "source": [
    "def extract_data(cards):\n",
    "    # Initialize lists to store data\n",
    "    bid_numbers = []\n",
    "    ra_numbers = []\n",
    "    items = []\n",
    "    quantities = []\n",
    "    departments = []\n",
    "    start_dates = []\n",
    "    end_dates = []\n",
    " \n",
    "    # Extract data from each card\n",
    "    for card in cards:\n",
    " \n",
    "        bid_number = card.find('a', class_='bid_no_hover').text.strip()\n",
    "        bid_numbers.append(bid_number)\n",
    "       \n",
    " \n",
    "        try:\n",
    "            ra_number = card.find_all('a', class_='bid_no_hover')[1].text.strip()\n",
    "            ra_numbers.append(ra_number)\n",
    "        except:\n",
    "            ra_numbers.append(0)\n",
    " \n",
    "       \n",
    "        item = card.find('strong', string='Items:').find_next('a').text.strip()\n",
    "        items.append(item)\n",
    "       \n",
    "        quantity = card.find('strong', string='Quantity:').next_sibling.strip()\n",
    "        quantities.append(quantity)\n",
    "       \n",
    "        department = card.find('strong', string='Department Name And Address:').find_next('div').text.strip()\n",
    "        departments.append(department)\n",
    "       \n",
    "        start_date = card.find('strong', string='Start Date:').find_next_sibling().text.strip()\n",
    "        start_dates.append(start_date)\n",
    "       \n",
    "        end_date = card.find('strong', string='End Date:').find_next_sibling().text.strip()\n",
    "        end_dates.append(end_date)\n",
    " \n",
    "    # Create a DataFrame\n",
    "    data = {\n",
    "        'Bid Number': bid_numbers,\n",
    "        'RA Number': ra_numbers,\n",
    "        'Items': items,\n",
    "        'Quantity': quantities,\n",
    "        'Department': departments,\n",
    "        'Start Date': start_dates,\n",
    "        'End Date': end_dates\n",
    "    }\n",
    "    df = pd.DataFrame(data)\n",
    " \n",
    "    return df\n"
   ]
  },
  {
   "cell_type": "code",
   "execution_count": 11,
   "metadata": {},
   "outputs": [],
   "source": [
    "browser = webdriver.Chrome()\n",
    "browser.get(\"https://bidplus.gem.gov.in/all-bids\")\n",
    " \n",
    "# Creating empty DataFrame with columns\n",
    "columns = ['Bid Number', 'RA Number', 'Items', 'Quantity', 'Department', 'Start Date', 'End Date']\n",
    "df1 = pd.DataFrame(columns=columns)\n",
    "\n",
    "# Find all card elements\n",
    "cards = soup.find_all('div', class_='card')\n",
    "\n",
    "soup = BeautifulSoup(browser.page_source, 'html.parser')\n",
    "\n",
    "df = extract_data(cards)\n",
    "\n",
    "browser.quit()"
   ]
  },
  {
   "cell_type": "code",
   "execution_count": 13,
   "metadata": {},
   "outputs": [
    {
     "data": {
      "text/plain": [
       "0                   GEM/2023/B/4261284\n",
       "1    Custom Bid for Services - CNG ...\n",
       "2                   GEM/2024/B/4490865\n",
       "3    23B95C003 BAR IRON FLAT 2-1/2\"...\n",
       "4    Custom Bid for Services - PACK...\n",
       "5    CONDUCTOR BELL - GSRTC Code No...\n",
       "6    Selection of Laboratories for ...\n",
       "7    Intravenous Cannulas as per IS...\n",
       "8    Supply of Field Flush Latrine ...\n",
       "9    COPPER PHOSPHORUS BRAZING ALLO...\n",
       "Name: Items, dtype: object"
      ]
     },
     "execution_count": 13,
     "metadata": {},
     "output_type": "execute_result"
    }
   ],
   "source": [
    "df['Items']"
   ]
  },
  {
   "cell_type": "code",
   "execution_count": 14,
   "metadata": {},
   "outputs": [],
   "source": [
    "# df"
   ]
  },
  {
   "cell_type": "code",
   "execution_count": null,
   "metadata": {},
   "outputs": [],
   "source": [
    "# df['Department'].unique()\n",
    "# df[df['Department']=='Ministry of SteelSteel Authority of India Limited']"
   ]
  },
  {
   "cell_type": "code",
   "execution_count": 15,
   "metadata": {},
   "outputs": [],
   "source": [
    "from selenium.webdriver.common.by import By\n",
    "from selenium.webdriver.support.ui import WebDriverWait\n",
    "from selenium.webdriver.support import expected_conditions as EC\n",
    "from bs4 import BeautifulSoup\n",
    "import pandas as pd\n",
    "from selenium import webdriver\n",
    "\n",
    "\n",
    "# Define a function to wait for the page to fully load\n",
    "def wait_for_page_load():\n",
    "    WebDriverWait(browser, 10).until(EC.presence_of_element_located((By.CLASS_NAME, 'card')))\n",
    "\n",
    "def extract_data(cards):\n",
    "    # Initialize lists to store data\n",
    "    bid_numbers = []\n",
    "    ra_numbers = []\n",
    "    items = []\n",
    "    quantities = []\n",
    "    departments = []\n",
    "    start_dates = []\n",
    "    end_dates = []\n",
    " \n",
    "    # Extract data from each card\n",
    "    for card in cards:\n",
    " \n",
    "        bid_number = card.find('a', class_='bid_no_hover').text.strip()\n",
    "        bid_numbers.append(bid_number)\n",
    "       \n",
    " \n",
    "        try:\n",
    "            ra_number = card.find_all('a', class_='bid_no_hover')[1].text.strip()\n",
    "            ra_numbers.append(ra_number)\n",
    "        except:\n",
    "            ra_numbers.append(0)\n",
    " \n",
    "       \n",
    "        item = card.find('strong', string='Items:').find_next('a').text.strip()\n",
    "        items.append(item)\n",
    "       \n",
    "        quantity = card.find('strong', string='Quantity:').next_sibling.strip()\n",
    "        quantities.append(quantity)\n",
    "       \n",
    "        department = card.find('strong', string='Department Name And Address:').find_next('div').text.strip()\n",
    "        departments.append(department)\n",
    "       \n",
    "        start_date = card.find('strong', string='Start Date:').find_next_sibling().text.strip()\n",
    "        start_dates.append(start_date)\n",
    "       \n",
    "        end_date = card.find('strong', string='End Date:').find_next_sibling().text.strip()\n",
    "        end_dates.append(end_date)\n",
    " \n",
    "    # Create a DataFrame\n",
    "    data = {\n",
    "        'Bid Number': bid_numbers,\n",
    "        'RA Number': ra_numbers,\n",
    "        'Items': items,\n",
    "        'Quantity': quantities,\n",
    "        'Department': departments,\n",
    "        'Start Date': start_dates,\n",
    "        'End Date': end_dates\n",
    "    }\n",
    "    df = pd.DataFrame(data)\n",
    " \n",
    "    return df\n",
    " \n",
    " \n",
    " \n",
    "browser = webdriver.Chrome()\n",
    "browser.get(\"https://bidplus.gem.gov.in/all-bids\")\n",
    " \n",
    "# Wait for the page to fully load\n",
    "wait_for_page_load()\n",
    " \n",
    "# Creating empty DataFrame with columns\n",
    "columns = ['Bid Number', 'RA Number', 'Items', 'Quantity', 'Department', 'Start Date', 'End Date']\n",
    "df1 = pd.DataFrame(columns=columns)\n",
    " \n",
    " \n",
    "soup = BeautifulSoup(browser.page_source, 'html.parser')\n",
    "total_no_of_pages = int(soup.find_all(\"a\", class_=\"page-link\")[-2].decode_contents())\n",
    " \n",
    " \n",
    "for i in range(2, 5):\n",
    "# for i in range(2, 11):\n",
    "    # Wait for the page to fully load after each iteration\n",
    "   \n",
    "    wait_for_page_load()    \n",
    " \n",
    "    # Parse the HTML using BeautifulSoup\n",
    "    soup = BeautifulSoup(browser.page_source, 'html.parser')\n",
    "    # Find all card elements\n",
    "    cards = soup.find_all('div', class_='card')\n",
    " \n",
    "    data = extract_data(cards)\n",
    " \n",
    "    df1 = pd.concat([df1, data], ignore_index=True)\n",
    " \n",
    "    # Find the button and click\n",
    "    button = browser.find_element(By.LINK_TEXT, str(i))\n",
    "    button.click()\n",
    " \n",
    " \n",
    " \n",
    "# Close the browser after the loop finishes\n",
    "\n",
    "df1.to_csv('data.csv',index=False)\n",
    "\n",
    "browser.quit()"
   ]
  },
  {
   "cell_type": "code",
   "execution_count": 16,
   "metadata": {},
   "outputs": [
    {
     "data": {
      "text/plain": [
       "array(['Ministry of Labour and EmploymentNA',\n",
       "       'Ministry of Ports, Shipping and WaterwaysNA',\n",
       "       'Ministry of SteelRashtriya Ispat Nigam Limited',\n",
       "       'Ministry of DefenceDepartment of Military Affairs',\n",
       "       'Ministry of SteelSteel Authority of India Limited',\n",
       "       'Ports and Transport Department Gujarat',\n",
       "       'Ministry of Labour and EmploymentEmployees State Insuarnce Corporation',\n",
       "       'Ministry of Heavy Industries and Public EnterprisesDepartment of Heavy Industry'],\n",
       "      dtype=object)"
      ]
     },
     "execution_count": 16,
     "metadata": {},
     "output_type": "execute_result"
    }
   ],
   "source": [
    "df['Department'].unique()\n",
    "# df[df['Department']=='Ministry of SteelSteel Authority of India Limited']"
   ]
  },
  {
   "cell_type": "code",
   "execution_count": 17,
   "metadata": {},
   "outputs": [
    {
     "data": {
      "text/plain": [
       "array(['GEM/2023/B/4261284', 'Custom Bid for Services - CNG ...',\n",
       "       'GEM/2024/B/4490865', '23B95C003 BAR IRON FLAT 2-1/2\"...',\n",
       "       'Custom Bid for Services - PACK...',\n",
       "       'CONDUCTOR BELL - GSRTC Code No...',\n",
       "       'Selection of Laboratories for ...',\n",
       "       'Intravenous Cannulas as per IS...',\n",
       "       'Supply of Field Flush Latrine ...',\n",
       "       'COPPER PHOSPHORUS BRAZING ALLO...'], dtype=object)"
      ]
     },
     "execution_count": 17,
     "metadata": {},
     "output_type": "execute_result"
    }
   ],
   "source": [
    "df['Items'].unique()"
   ]
  },
  {
   "cell_type": "code",
   "execution_count": 18,
   "metadata": {},
   "outputs": [
    {
     "data": {
      "text/plain": [
       "[<div class=\"card\"><div class=\"block_header\"><p class=\"bid_no pull-left\"><span class=\"bid_title\">BID NO: </span><a class=\"bid_no_hover\" href=\"/showbidDocument/6118769\" target=\"_blank\">GEM/2024/B/4686968</a></p><p class=\"pull-right otherDetails\" data-bid=\"6118769\" id=\"other-details-6118769\" onclick=\"getOtherDetails(6118769)\"><a><i class=\"fa fa-arrow-circle-left\"></i>  View Corrigendum/Representation</a></p></div><div class=\"clearfix\"></div><div class=\"card-body\"><div class=\"row\"><div class=\"col-md-4\"><div class=\"row\"><strong>Items:</strong> <a data-content=\"RAM DDR5 DESKTOP 32 GB, 5200 MHz\" data-original-title=\"\" data-toggle=\"popover\" data-trigger=\"hover\" title=\"\">RAM DDR5 DESKTOP 32 GB, 5200 M...</a></div><div class=\"row\"><strong>Quantity:</strong> 4</div></div><div class=\"col-md-5\"><div class=\"row\"><strong>Department Name And Address:</strong> </div><div class=\"row\">PMO<br/>Department of Atomic Energy</div></div><div class=\"col-md-3\"><div class=\"row\"><strong>Start Date:</strong> <span class=\"start_date\">08-03-2024 5:26 PM</span></div><div class=\"row\"><strong>End Date:</strong>   <span class=\"end_date\">01-04-2024 3:00 PM</span></div></div><div class=\"clearfix\"></div></div></div></div>,\n",
       " <div class=\"card\"><div class=\"block_header\"><p class=\"bid_no pull-left\"><span class=\"bid_title\">BID NO: </span><a class=\"bid_no_hover\" href=\"/showbidDocument/6195842\" target=\"_blank\">GEM/2024/B/4756787</a></p><p class=\"pull-right otherDetails\" data-bid=\"6195842\" id=\"other-details-6195842\" onclick=\"getOtherDetails(6195842)\"><a><i class=\"fa fa-arrow-circle-left\"></i>  View Corrigendum/Representation</a></p></div><div class=\"clearfix\"></div><div class=\"card-body\"><div class=\"row\"><div class=\"col-md-4\"><div class=\"row\"><strong>Items:</strong> BUSHING 172.51. 026/F</div><div class=\"row\"><strong>Quantity:</strong> 432</div></div><div class=\"col-md-5\"><div class=\"row\"><strong>Department Name And Address:</strong> </div><div class=\"row\">Ministry of Defence<br/>Department of Defence Production</div></div><div class=\"col-md-3\"><div class=\"row\"><strong>Start Date:</strong> <span class=\"start_date\">09-03-2024 9:50 AM</span></div><div class=\"row\"><strong>End Date:</strong>   <span class=\"end_date\">01-04-2024 3:00 PM</span></div></div><div class=\"clearfix\"></div></div></div></div>,\n",
       " <div class=\"card\"><div class=\"block_header\"><p class=\"bid_no pull-left\"><span class=\"bid_title\">BID NO: </span><a class=\"bid_no_hover\" href=\"/showbidDocument/6192787\" target=\"_blank\">GEM/2024/B/4754012</a></p><p class=\"pull-right otherDetails\" data-bid=\"6192787\" id=\"other-details-6192787\" onclick=\"getOtherDetails(6192787)\"><a><i class=\"fa fa-arrow-circle-left\"></i>  View Corrigendum/Representation</a></p></div><div class=\"clearfix\"></div><div class=\"card-body\"><div class=\"row\"><div class=\"col-md-4\"><div class=\"row\"><strong>Items:</strong> <a data-content=\"THRUST RING 172.52. 136/F,WORM WHEEL FORGING 172.27. 131/F\" data-original-title=\"\" data-toggle=\"popover\" data-trigger=\"hover\" title=\"\">THRUST RING 172.52. 136/F,WORM...</a></div><div class=\"row\"><strong>Quantity:</strong> 350</div></div><div class=\"col-md-5\"><div class=\"row\"><strong>Department Name And Address:</strong> </div><div class=\"row\">Ministry of Defence<br/>Department of Defence Production</div></div><div class=\"col-md-3\"><div class=\"row\"><strong>Start Date:</strong> <span class=\"start_date\">09-03-2024 9:30 AM</span></div><div class=\"row\"><strong>End Date:</strong>   <span class=\"end_date\">01-04-2024 3:00 PM</span></div></div><div class=\"clearfix\"></div></div></div></div>,\n",
       " <div class=\"card\"><div class=\"block_header\"><p class=\"bid_no pull-left\"><span class=\"bid_title\">BID NO: </span><a class=\"bid_no_hover\" href=\"/showbidDocument/6196016\" target=\"_blank\">GEM/2024/B/4756927</a></p><p class=\"pull-right otherDetails\" data-bid=\"6196016\" id=\"other-details-6196016\" onclick=\"getOtherDetails(6196016)\"><a><i class=\"fa fa-arrow-circle-left\"></i>  View Corrigendum/Representation</a></p></div><div class=\"clearfix\"></div><div class=\"card-body\"><div class=\"row\"><div class=\"col-md-4\"><div class=\"row\"><strong>Items:</strong> <a data-content=\"4105598,4105589,4104998,4105025,4104755,4104834,4105123,4105125\" data-original-title=\"BEARING\" data-toggle=\"popover\" data-trigger=\"hover\" title=\"\">4105598,4105589,4104998,410502...</a></div><div class=\"row\"><strong>Quantity:</strong> 44</div></div><div class=\"col-md-5\"><div class=\"row\"><strong>Department Name And Address:</strong> </div><div class=\"row\">Ministry of Chemicals and Fertilizers<br/>Department of Fertilizers</div></div><div class=\"col-md-3\"><div class=\"row\"><strong>Start Date:</strong> <span class=\"start_date\">09-03-2024 10:20 AM</span></div><div class=\"row\"><strong>End Date:</strong>   <span class=\"end_date\">01-04-2024 3:00 PM</span></div></div><div class=\"clearfix\"></div></div></div></div>,\n",
       " <div class=\"card\"><div class=\"block_header\"><p class=\"bid_no pull-left\"><span class=\"bid_title\">BID NO: </span><a class=\"bid_no_hover\" href=\"/showbidDocument/5931527\" target=\"_blank\">GEM/2024/B/4516245</a></p><p class=\"pull-right otherDetails\" data-bid=\"5931527\" id=\"other-details-5931527\" onclick=\"getOtherDetails(5931527)\"><a><i class=\"fa fa-arrow-circle-left\"></i>  View Corrigendum/Representation</a></p></div><div class=\"clearfix\"></div><div class=\"card-body\"><div class=\"row\"><div class=\"col-md-4\"><div class=\"row\"><strong>Items:</strong> <a data-content=\"SITC of new Wired Fire Alarm System on Turnkey Basis at Corporate R&amp;D Centre\" data-original-title=\"\" data-toggle=\"popover\" data-trigger=\"hover\" title=\"\">SITC of new Wired Fire Alarm S...</a></div><div class=\"row\"><strong>Quantity:</strong> 1</div></div><div class=\"col-md-5\"><div class=\"row\"><strong>Department Name And Address:</strong> </div><div class=\"row\">Ministry of Finance<br/>Department of Economic Affairs</div></div><div class=\"col-md-3\"><div class=\"row\"><strong>Start Date:</strong> <span class=\"start_date\">28-02-2024 4:27 PM</span></div><div class=\"row\"><strong>End Date:</strong>   <span class=\"end_date\">01-04-2024 3:00 PM</span></div></div><div class=\"clearfix\"></div></div></div></div>,\n",
       " <div class=\"card\"><div class=\"block_header\"><p class=\"bid_no pull-left\"><span class=\"bid_title\">BID NO: </span><a class=\"bid_no_hover\" href=\"/showbidDocument/6154268\" target=\"_blank\">GEM/2024/B/4719155</a></p><p class=\"pull-right otherDetails\" data-bid=\"6154268\" id=\"other-details-6154268\" onclick=\"getOtherDetails(6154268)\"><a><i class=\"fa fa-arrow-circle-left\"></i>  View Corrigendum/Representation</a></p></div><div class=\"clearfix\"></div><div class=\"card-body\"><div class=\"row\"><div class=\"col-md-4\"><div class=\"row\"><strong>Items:</strong> <a data-content=\"Ambulatory Blood Pressure Analyzer and Recorder\" data-original-title=\"\" data-toggle=\"popover\" data-trigger=\"hover\" title=\"\">Ambulatory Blood Pressure Anal...</a></div><div class=\"row\"><strong>Quantity:</strong> 1</div></div><div class=\"col-md-5\"><div class=\"row\"><strong>Department Name And Address:</strong> </div><div class=\"row\">Health and Family Welfare Department Himachal Pradesh</div></div><div class=\"col-md-3\"><div class=\"row\"><strong>Start Date:</strong> <span class=\"start_date\">02-03-2024 3:02 PM</span></div><div class=\"row\"><strong>End Date:</strong>   <span class=\"end_date\">01-04-2024 3:00 PM</span></div></div><div class=\"clearfix\"></div></div></div></div>,\n",
       " <div class=\"card\"><div class=\"block_header\"><p class=\"bid_no pull-left\"><span class=\"bid_title\">BID NO: </span><a class=\"bid_no_hover\" href=\"/showbidDocument/6147251\" target=\"_blank\">GEM/2024/B/4712765</a></p><p class=\"pull-right otherDetails\" data-bid=\"6147251\" id=\"other-details-6147251\" onclick=\"getOtherDetails(6147251)\"><a><i class=\"fa fa-arrow-circle-left\"></i>  View Corrigendum/Representation</a></p></div><div class=\"clearfix\"></div><div class=\"card-body\"><div class=\"row\"><div class=\"col-md-4\"><div class=\"row\"><strong>Items:</strong> Temporary Pacemaker</div><div class=\"row\"><strong>Quantity:</strong> 15</div></div><div class=\"col-md-5\"><div class=\"row\"><strong>Department Name And Address:</strong> </div><div class=\"row\">Health and Family Welfare Department Himachal Pradesh</div></div><div class=\"col-md-3\"><div class=\"row\"><strong>Start Date:</strong> <span class=\"start_date\">02-03-2024 3:03 PM</span></div><div class=\"row\"><strong>End Date:</strong>   <span class=\"end_date\">01-04-2024 3:00 PM</span></div></div><div class=\"clearfix\"></div></div></div></div>,\n",
       " <div class=\"card\"><div class=\"block_header\"><p class=\"bid_no pull-left\"><span class=\"bid_title\">BID NO: </span><a class=\"bid_no_hover\" href=\"/showbidDocument/6094913\" target=\"_blank\">GEM/2024/B/4665132</a></p><p class=\"pull-right otherDetails\" data-bid=\"6094913\" id=\"other-details-6094913\" onclick=\"getOtherDetails(6094913)\"><a><i class=\"fa fa-arrow-circle-left\"></i>  View Corrigendum/Representation</a></p></div><div class=\"clearfix\"></div><div class=\"card-body\"><div class=\"row\"><div class=\"col-md-4\"><div class=\"row\"><strong>Items:</strong> <a data-content=\"S. I. T. C. of 45 KW Vacuum Gold Bar Making Machine\" data-original-title=\"\" data-toggle=\"popover\" data-trigger=\"hover\" title=\"\">S. I. T. C. of 45 KW Vacuum Go...</a></div><div class=\"row\"><strong>Quantity:</strong> 1</div></div><div class=\"col-md-5\"><div class=\"row\"><strong>Department Name And Address:</strong> </div><div class=\"row\">Ministry of Finance<br/>Department of Economic Affairs</div></div><div class=\"col-md-3\"><div class=\"row\"><strong>Start Date:</strong> <span class=\"start_date\">01-03-2024 4:03 PM</span></div><div class=\"row\"><strong>End Date:</strong>   <span class=\"end_date\">01-04-2024 3:00 PM</span></div></div><div class=\"clearfix\"></div></div></div></div>,\n",
       " <div class=\"card\"><div class=\"block_header\"><p class=\"bid_no pull-left\"><span class=\"bid_title\">BID NO: </span><a class=\"bid_no_hover\" href=\"/showbidDocument/6150788\" target=\"_blank\">GEM/2024/B/4715988</a></p><p class=\"pull-right otherDetails\" data-bid=\"6150788\" id=\"other-details-6150788\" onclick=\"getOtherDetails(6150788)\"><a><i class=\"fa fa-arrow-circle-left\"></i>  View Corrigendum/Representation</a></p></div><div class=\"clearfix\"></div><div class=\"card-body\"><div class=\"row\"><div class=\"col-md-4\"><div class=\"row\"><strong>Items:</strong> <a data-content=\"Procurement of Blanking Press (30 Ton) ; Qty: 2 Nos.\" data-original-title=\"\" data-toggle=\"popover\" data-trigger=\"hover\" title=\"\">Procurement of Blanking Press ...</a></div><div class=\"row\"><strong>Quantity:</strong> 2</div></div><div class=\"col-md-5\"><div class=\"row\"><strong>Department Name And Address:</strong> </div><div class=\"row\">Ministry of Finance<br/>Department of Economic Affairs</div></div><div class=\"col-md-3\"><div class=\"row\"><strong>Start Date:</strong> <span class=\"start_date\">01-03-2024 3:46 PM</span></div><div class=\"row\"><strong>End Date:</strong>   <span class=\"end_date\">01-04-2024 3:00 PM</span></div></div><div class=\"clearfix\"></div></div></div></div>,\n",
       " <div class=\"card\"><div class=\"block_header\"><p class=\"bid_no pull-left\"><span class=\"bid_title\">BID NO: </span><a class=\"bid_no_hover\" href=\"/showbidDocument/6143831\" target=\"_blank\">GEM/2024/B/4709583</a></p><p class=\"pull-right otherDetails\" data-bid=\"6143831\" id=\"other-details-6143831\" onclick=\"getOtherDetails(6143831)\"><a><i class=\"fa fa-arrow-circle-left\"></i>  View Corrigendum/Representation</a></p></div><div class=\"clearfix\"></div><div class=\"card-body\"><div class=\"row\"><div class=\"col-md-4\"><div class=\"row\"><strong>Items:</strong> <a data-content=\"ECONOMISER OUTER LONG BEND FOR STAGE-I,ECONOMISER INNER LONG BEND FOR STAGE-I\" data-original-title=\"\" data-toggle=\"popover\" data-trigger=\"hover\" title=\"\">ECONOMISER OUTER LONG BEND FOR...</a></div><div class=\"row\"><strong>Quantity:</strong> 1344</div></div><div class=\"col-md-5\"><div class=\"row\"><strong>Department Name And Address:</strong> </div><div class=\"row\">Ministry of Coal<br/>Materials Management</div></div><div class=\"col-md-3\"><div class=\"row\"><strong>Start Date:</strong> <span class=\"start_date\">29-02-2024 5:27 PM</span></div><div class=\"row\"><strong>End Date:</strong>   <span class=\"end_date\">01-04-2024 3:00 PM</span></div></div><div class=\"clearfix\"></div></div></div></div>]"
      ]
     },
     "execution_count": 18,
     "metadata": {},
     "output_type": "execute_result"
    }
   ],
   "source": [
    "cards"
   ]
  },
  {
   "cell_type": "code",
   "execution_count": 57,
   "metadata": {},
   "outputs": [],
   "source": [
    "from selenium.webdriver.common.by import By\n",
    "from selenium.webdriver.support.ui import WebDriverWait\n",
    "from selenium.webdriver.support import expected_conditions as EC\n",
    "from bs4 import BeautifulSoup\n",
    "import pandas as pd\n",
    "from selenium import webdriver\n",
    " \n",
    " \n",
    "# Define a function to wait for the page to fully load\n",
    "def wait_for_page_load():\n",
    "    WebDriverWait(browser, 10).until(EC.presence_of_element_located((By.CLASS_NAME, 'card')))\n",
    " \n",
    "def extract_data(cards):\n",
    "    # Initialize lists to store data\n",
    "    bid_numbers = []\n",
    "    ra_numbers = []\n",
    "    items = []\n",
    "    quantities = []\n",
    "    departments = []\n",
    "    start_dates = []\n",
    "    end_dates = []\n",
    " \n",
    "    # Extract data from each card\n",
    "    for card in cards:\n",
    " \n",
    "        bid_number = card.find('a', class_='bid_no_hover').text.strip()\n",
    "        bid_numbers.append(bid_number)\n",
    "       \n",
    " \n",
    "        try:\n",
    "            ra_number = card.find_all('a', class_='bid_no_hover')[1].text.strip()\n",
    "            ra_numbers.append(ra_number)\n",
    "        except:\n",
    "            ra_numbers.append(0)\n",
    " \n",
    "       \n",
    "        item = card.find('strong', string='Items:').find_next('a').text.strip()\n",
    "        items.append(item)\n",
    "       \n",
    "        quantity = card.find('strong', string='Quantity:').next_sibling.strip()\n",
    "        quantities.append(quantity)\n",
    "       \n",
    "        department = card.find('strong', string='Department Name And Address:').find_next('div').text.strip()\n",
    "        departments.append(department)\n",
    "       \n",
    "        start_date = card.find('strong', string='Start Date:').find_next_sibling().text.strip()\n",
    "        start_dates.append(start_date)\n",
    "       \n",
    "        end_date = card.find('strong', string='End Date:').find_next_sibling().text.strip()\n",
    "        end_dates.append(end_date)\n",
    " \n",
    "    # Create a DataFrame\n",
    "    data = {\n",
    "        'Bid Number': bid_numbers,\n",
    "        'RA Number': ra_numbers,\n",
    "        'Items': items,\n",
    "        'Quantity': quantities,\n",
    "        'Department': departments,\n",
    "        'Start Date': start_dates,\n",
    "        'End Date': end_dates\n",
    "    }\n",
    "    df = pd.DataFrame(data)\n",
    " \n",
    "    return df\n",
    " \n",
    " \n",
    " \n",
    "browser = webdriver.Chrome()\n",
    "browser.get(\"https://bidplus.gem.gov.in/all-bids\")\n",
    " \n",
    "# Wait for the page to fully load\n",
    "wait_for_page_load()\n",
    " \n",
    "# Creating empty DataFrame with columns\n",
    "columns = ['Bid Number', 'RA Number', 'Items', 'Quantity', 'Department', 'Start Date', 'End Date']\n",
    "df1 = pd.DataFrame(columns=columns)\n",
    " \n",
    " \n",
    "soup = BeautifulSoup(browser.page_source, 'html.parser')\n",
    "total_no_of_pages = int(soup.find_all(\"a\", class_=\"page-link\")[-2].decode_contents())\n",
    "cards = None\n",
    " \n",
    "for i in range(2,10):\n",
    "# for i in range(2, 11):\n",
    "    # Wait for the page to fully load after each iteration\n",
    "   \n",
    "    wait_for_page_load()    \n",
    " \n",
    "    # Parse the HTML using BeautifulSoup\n",
    "    soup = BeautifulSoup(browser.page_source, 'html.parser')\n",
    "    # Find all card elements\n",
    "    cards = soup.find_all('div', class_='card')\n",
    " \n",
    "    data = extract_data(cards)\n",
    " \n",
    "    df1 = pd.concat([df1, data], ignore_index=True)\n",
    " \n",
    "    # Find the button and click\n",
    "    button = browser.find_element(By.LINK_TEXT, str(i))\n",
    "    button.click()\n",
    " \n",
    " \n",
    " \n",
    "# # Close the browser after the loop finishes\n",
    "browser.quit()\n",
    "df1.to_csv('data.csv',index=False)"
   ]
  },
  {
   "cell_type": "code",
   "execution_count": 58,
   "metadata": {},
   "outputs": [
    {
     "data": {
      "text/plain": [
       "array(['GEM/2023/B/4300810', 'Custom Bid for Services - PAIN...',\n",
       "       'Monthly Basis Cab & Taxi Hirin...', 'GEM/2024/B/4758643',\n",
       "       'GEM/2024/B/4760696', 'PROCUREMENT OF“ HUMIDITY 20% T...',\n",
       "       'GEM/2024/B/4761407', 'MFG&SUPPLY OF DRILL-JIG, BONDI...',\n",
       "       '1. RELEASE PAPER WIDTH 55 MM W...',\n",
       "       '1 NON WOVEN SHEET WHITE 185 MM...',\n",
       "       '100mm Cast Iron Butterfly Valv...',\n",
       "       'NITROGEN TYRE INFLATION SYSTEM...',\n",
       "       'GROUP A-1,GROUP A-2,GROUP A-3,...',\n",
       "       'Prism color 24 pcs,Mars lumogr...',\n",
       "       'A FCP resister panel,B FCP res...', 'GEM/2024/B/4753701',\n",
       "       'Custom Bid for Services - Main...',\n",
       "       'Manpower Outsourcing Services ...', 'Prev',\n",
       "       'Custom Bid for Services - Subs...',\n",
       "       'A-60 FAT INSULATION SLAB /ROLL...',\n",
       "       'Consumable of Dicing Machine V...', 'GEM/2024/B/4765520',\n",
       "       'Handling ,Transport and Other ...', 'GEM/2024/B/4763765',\n",
       "       'CADMIUM BRILLIANT BRIGHTNER NO...', 'GEM/2024/B/4763833',\n",
       "       'Plastics Bib Taps Pillar Taps ...',\n",
       "       'ACCUMULATOR BLADER IN TG CONTR...',\n",
       "       'Wet and Dry Bulb thermometers,...',\n",
       "       'AUTOMATED TEST EQUIPMENT FOR C...',\n",
       "       'Tablet Based Biometric Attenda...', 'GEM/2024/B/4603234',\n",
       "       'Customized AMC/CMC for Pre-own...',\n",
       "       'Automatic External Defibrillat...',\n",
       "       '1 - M3101101901,2 - M310110180...',\n",
       "       'Isopropyl Alcohol (2 - Propano...', 'GEM/2024/B/4764086',\n",
       "       'GEM/2024/B/4763998', 'GEM/2024/B/4763964',\n",
       "       'Composite Thickness Detector w...',\n",
       "       'GS WIRE ROPE_ 1,GS WIRE ROPE_ ...',\n",
       "       'Custom Bid for Services - Assi...',\n",
       "       'CYLINDRICAL GRINDING MACHINE M...',\n",
       "       'MATERIAL CODE 1_8190780063,MAT...',\n",
       "       'Custom Bid for Services - Safa...',\n",
       "       'Annual Maintenance Service  - ...',\n",
       "       'Web/mobile based AR/VR or AR/V...', 'GEM/2024/B/4797534',\n",
       "       'GEM/2024/B/4785191', 'Leptospira Rapid Test Kits (V2...',\n",
       "       'GEM/2024/B/4805253', 'Split Air Conditioner Includin...',\n",
       "       'Design, Engineering, manufactu...',\n",
       "       'ITEM_ 10_ M1607097100_ 1002320...',\n",
       "       'Industrial Safety Gloves - Lea...',\n",
       "       'OEM / Compatible Cartridge / C...',\n",
       "       'PROCUREMENT OF DIFF. CAGE FORG...'], dtype=object)"
      ]
     },
     "execution_count": 58,
     "metadata": {},
     "output_type": "execute_result"
    }
   ],
   "source": [
    "df1['Items'].unique()"
   ]
  },
  {
   "cell_type": "code",
   "execution_count": 55,
   "metadata": {},
   "outputs": [],
   "source": [
    "# df1.head(50)"
   ]
  },
  {
   "cell_type": "code",
   "execution_count": 51,
   "metadata": {},
   "outputs": [
    {
     "data": {
      "text/plain": [
       "[<a data-content=\"GS WIRE ROPE_ 1,GS WIRE ROPE_ 2,GS WIRE ROPE_ 3\" data-original-title=\"\" data-toggle=\"popover\" data-trigger=\"hover\" title=\"\">GS WIRE ROPE_ 1,GS WIRE ROPE_ ...</a>]"
      ]
     },
     "execution_count": 51,
     "metadata": {},
     "output_type": "execute_result"
    }
   ],
   "source": [
    "cards[0].findAll(\"a\", attrs={\"data-content\":True})"
   ]
  },
  {
   "cell_type": "code",
   "execution_count": 53,
   "metadata": {},
   "outputs": [
    {
     "name": "stdout",
     "output_type": "stream",
     "text": [
      "GS WIRE ROPE_ 1,GS WIRE ROPE_ 2,GS WIRE ROPE_ 3\n"
     ]
    }
   ],
   "source": [
    "for i in cards[0].findAll(\"a\", attrs={\"data-content\":True}):\n",
    "    print(i['data-content'])"
   ]
  },
  {
   "cell_type": "code",
   "execution_count": null,
   "metadata": {},
   "outputs": [],
   "source": []
  },
  {
   "cell_type": "code",
   "execution_count": 64,
   "metadata": {},
   "outputs": [],
   "source": [
    "cards[3].findAll('div', class_=\"row\")[2]"
   ]
  },
  {
   "cell_type": "code",
   "execution_count": null,
   "metadata": {},
   "outputs": [],
   "source": []
  }
 ],
 "metadata": {
  "kernelspec": {
   "display_name": "Python 3",
   "language": "python",
   "name": "python3"
  },
  "language_info": {
   "codemirror_mode": {
    "name": "ipython",
    "version": 3
   },
   "file_extension": ".py",
   "mimetype": "text/x-python",
   "name": "python",
   "nbconvert_exporter": "python",
   "pygments_lexer": "ipython3",
   "version": "3.11.4"
  }
 },
 "nbformat": 4,
 "nbformat_minor": 2
}
